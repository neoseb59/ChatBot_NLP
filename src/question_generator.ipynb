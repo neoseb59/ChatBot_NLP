{
  "nbformat": 4,
  "nbformat_minor": 0,
  "metadata": {
    "colab": {
      "provenance": [],
      "gpuType": "T4"
    },
    "kernelspec": {
      "name": "python3",
      "display_name": "Python 3"
    },
    "language_info": {
      "name": "python"
    },
    "accelerator": "GPU"
  },
  "cells": [
    {
      "cell_type": "code",
      "execution_count": null,
      "metadata": {
        "colab": {
          "base_uri": "https://localhost:8080/"
        },
        "id": "t1GwXYsU3ECj",
        "outputId": "2709dd7f-855c-4b87-8954-df84b950fdbe"
      },
      "outputs": [
        {
          "output_type": "stream",
          "name": "stdout",
          "text": [
            "Requirement already satisfied: transformers in /usr/local/lib/python3.10/dist-packages (4.38.2)\n",
            "Requirement already satisfied: filelock in /usr/local/lib/python3.10/dist-packages (from transformers) (3.13.1)\n",
            "Requirement already satisfied: huggingface-hub<1.0,>=0.19.3 in /usr/local/lib/python3.10/dist-packages (from transformers) (0.20.3)\n",
            "Requirement already satisfied: numpy>=1.17 in /usr/local/lib/python3.10/dist-packages (from transformers) (1.25.2)\n",
            "Requirement already satisfied: packaging>=20.0 in /usr/local/lib/python3.10/dist-packages (from transformers) (24.0)\n",
            "Requirement already satisfied: pyyaml>=5.1 in /usr/local/lib/python3.10/dist-packages (from transformers) (6.0.1)\n",
            "Requirement already satisfied: regex!=2019.12.17 in /usr/local/lib/python3.10/dist-packages (from transformers) (2023.12.25)\n",
            "Requirement already satisfied: requests in /usr/local/lib/python3.10/dist-packages (from transformers) (2.31.0)\n",
            "Requirement already satisfied: tokenizers<0.19,>=0.14 in /usr/local/lib/python3.10/dist-packages (from transformers) (0.15.2)\n",
            "Requirement already satisfied: safetensors>=0.4.1 in /usr/local/lib/python3.10/dist-packages (from transformers) (0.4.2)\n",
            "Requirement already satisfied: tqdm>=4.27 in /usr/local/lib/python3.10/dist-packages (from transformers) (4.66.2)\n",
            "Requirement already satisfied: fsspec>=2023.5.0 in /usr/local/lib/python3.10/dist-packages (from huggingface-hub<1.0,>=0.19.3->transformers) (2023.6.0)\n",
            "Requirement already satisfied: typing-extensions>=3.7.4.3 in /usr/local/lib/python3.10/dist-packages (from huggingface-hub<1.0,>=0.19.3->transformers) (4.10.0)\n",
            "Requirement already satisfied: charset-normalizer<4,>=2 in /usr/local/lib/python3.10/dist-packages (from requests->transformers) (3.3.2)\n",
            "Requirement already satisfied: idna<4,>=2.5 in /usr/local/lib/python3.10/dist-packages (from requests->transformers) (3.6)\n",
            "Requirement already satisfied: urllib3<3,>=1.21.1 in /usr/local/lib/python3.10/dist-packages (from requests->transformers) (2.0.7)\n",
            "Requirement already satisfied: certifi>=2017.4.17 in /usr/local/lib/python3.10/dist-packages (from requests->transformers) (2024.2.2)\n"
          ]
        }
      ],
      "source": [
        "!pip install transformers"
      ]
    },
    {
      "cell_type": "code",
      "source": [
        "!nvidia-smi"
      ],
      "metadata": {
        "colab": {
          "base_uri": "https://localhost:8080/"
        },
        "id": "SKYRg_hc41es",
        "outputId": "7ca00c5f-63d8-45ed-d86d-79f46bb65714"
      },
      "execution_count": null,
      "outputs": [
        {
          "output_type": "stream",
          "name": "stdout",
          "text": [
            "Wed Mar 20 08:49:31 2024       \n",
            "+---------------------------------------------------------------------------------------+\n",
            "| NVIDIA-SMI 535.104.05             Driver Version: 535.104.05   CUDA Version: 12.2     |\n",
            "|-----------------------------------------+----------------------+----------------------+\n",
            "| GPU  Name                 Persistence-M | Bus-Id        Disp.A | Volatile Uncorr. ECC |\n",
            "| Fan  Temp   Perf          Pwr:Usage/Cap |         Memory-Usage | GPU-Util  Compute M. |\n",
            "|                                         |                      |               MIG M. |\n",
            "|=========================================+======================+======================|\n",
            "|   0  Tesla T4                       Off | 00000000:00:04.0 Off |                    0 |\n",
            "| N/A   37C    P8               9W /  70W |      0MiB / 15360MiB |      0%      Default |\n",
            "|                                         |                      |                  N/A |\n",
            "+-----------------------------------------+----------------------+----------------------+\n",
            "                                                                                         \n",
            "+---------------------------------------------------------------------------------------+\n",
            "| Processes:                                                                            |\n",
            "|  GPU   GI   CI        PID   Type   Process name                            GPU Memory |\n",
            "|        ID   ID                                                             Usage      |\n",
            "|=======================================================================================|\n",
            "|  No running processes found                                                           |\n",
            "+---------------------------------------------------------------------------------------+\n"
          ]
        }
      ]
    },
    {
      "cell_type": "code",
      "source": [
        "from transformers import AutoTokenizer, AutoModelForSeq2SeqLM\n",
        "from transformers import Text2TextGenerationPipeline\n",
        "\n",
        "model_name = 'lincoln/barthez-squadFR-fquad-piaf-question-generation'\n",
        "\n",
        "loaded_model = AutoModelForSeq2SeqLM.from_pretrained(model_name)\n",
        "loaded_tokenizer = AutoTokenizer.from_pretrained(model_name)\n",
        "\n",
        "text = \"\"\"\n",
        "Je m'inscris auprès d'une maternité ou d'une maison de santé\n",
        "Je transmets ma déclaration de grossesse à ma caisse d'assurance maladie et à ma caisse d'allocations familiales (Caf : Caf : Caisse d'allocations familiales ou MSA : MSA : Mutualité sociale agricole) et je me renseigne sur la prime à la naissance et l'allocation de base de la prestation d'accueil du jeune enfant (Paje)\n",
        "J'effectue les examens médicaux obligatoires\n",
        "J'ai droit à des autorisations d'absence pour m'y rendre, ainsi que la personne avec qui je vis en couple : Mariage, Pacs ou concubinage (union libre).\n",
        "Je m'informe sur la prise en charge des dépenses de santé\n",
        "Je demande l'aide à domicile, si je suis confrontée à des difficultés médicales ou sociales et financières\n",
        "Je peux, à compter de la 1re consultation médicale de grossesse et au plus tard avant la fin du 5e mois de grossesse déclarer une sage-femme référente. Cette sage-femme m'accompagne de la grossesse à la maternité. Cette déclaration se fait auprès de l'Assurance maladie et reste valable 14 semaines après l'accouchement.\n",
        "\"\"\"\n",
        "inputs = loaded_tokenizer(text, return_tensors='pt')\n",
        "\n",
        "out = loaded_model.generate(\n",
        "    input_ids=inputs.input_ids,\n",
        "    attention_mask=inputs.attention_mask,\n",
        "    num_beams=16,\n",
        "    num_return_sequences=16,\n",
        "    length_penalty=10\n",
        ")\n",
        "\n",
        "questions = []\n",
        "for question in out:\n",
        "    questions.append(loaded_tokenizer.decode(question, skip_special_tokens=True))\n",
        "\n",
        "for q in questions:\n",
        "    print(q)"
      ],
      "metadata": {
        "id": "8IGAG6A58x_i",
        "colab": {
          "base_uri": "https://localhost:8080/"
        },
        "outputId": "944fdcdf-c880-4a05-bee9-c64c9435fc70"
      },
      "execution_count": null,
      "outputs": [
        {
          "output_type": "stream",
          "name": "stdout",
          "text": [
            "De quoi une sage-femme accompagne-t-elle ma grossesse?\n",
            "De quoi cette sage-femme m'accompagne-t-elle?\n",
            "De quoi la sage-femme accompagne-t-elle ma grossesse?\n",
            "De quoi cette sage-femme accompagne-t-elle ma grossesse?\n",
            "De quoi la sage-femme m'accompagne-t-elle?\n",
            "De quoi une sage-femme accompagne-t-elle une patiente?\n",
            "Quand une sage-femme accompagne-t-elle ma grossesse?\n",
            "De quoi accompagne la sage-femme qui m'accompagne?\n",
            "Que m'accompagne une sage-femme référente?\n",
            "De quoi accompagne une sage-femme référente?\n",
            "De quoi cette sage-femme m'accompagne?\n",
            "Que m'accompagne cette sage-femme?\n",
            "Que m'accompagne une sage-femme?\n",
            "Que m'accompagne la sage-femme?\n",
            "De quoi accompagne une sage-femme?\n",
            "De quoi accompagne la sage-femme?\n"
          ]
        }
      ]
    }
  ]
}